{
  "nbformat": 4,
  "nbformat_minor": 0,
  "metadata": {
    "colab": {
      "provenance": [],
      "authorship_tag": "ABX9TyOz5irACc1uxQ9D4AfuWosd",
      "include_colab_link": true
    },
    "kernelspec": {
      "name": "python3",
      "display_name": "Python 3"
    },
    "language_info": {
      "name": "python"
    }
  },
  "cells": [
    {
      "cell_type": "markdown",
      "metadata": {
        "id": "view-in-github",
        "colab_type": "text"
      },
      "source": [
        "<a href=\"https://colab.research.google.com/github/Hpesantes/SQL-Projects/blob/main/class_1_functions.ipynb\" target=\"_parent\"><img src=\"https://colab.research.google.com/assets/colab-badge.svg\" alt=\"Open In Colab\"/></a>"
      ]
    },
    {
      "cell_type": "code",
      "execution_count": null,
      "metadata": {
        "colab": {
          "base_uri": "https://localhost:8080/"
        },
        "id": "yZ928hBmvHes",
        "outputId": "60e15783-cfa1-4ec5-887b-5d0225d298d8"
      },
      "outputs": [
        {
          "output_type": "stream",
          "name": "stdout",
          "text": [
            "Hello World\n"
          ]
        }
      ],
      "source": [
        "print('Hello World')"
      ]
    },
    {
      "cell_type": "markdown",
      "source": [
        "PRINT is a FUNCTION ('') < ----- everything inside of the quote is a string. You can use double quotes or singles quotes inisde the parenthesis. Double quotes is sometimes better to use incase your string has a single quote"
      ],
      "metadata": {
        "id": "iir56HUR2fOU"
      }
    },
    {
      "cell_type": "markdown",
      "source": [
        "If you want to execute the lines of code in that cell you can press shift + enter, or PLAY button, or RUNTIME"
      ],
      "metadata": {
        "id": "fanQx3PCy7Td"
      }
    },
    {
      "cell_type": "markdown",
      "source": [
        "In order to write text or comment you need to switch to +text"
      ],
      "metadata": {
        "id": "2Rhjkppvxxms"
      }
    },
    {
      "cell_type": "markdown",
      "source": [
        "NOTE: Python reads code left to right, top to bottom."
      ],
      "metadata": {
        "id": "4-fd0mzD3iDA"
      }
    },
    {
      "cell_type": "code",
      "source": [
        "print(type(int(\"3\")))\n"
      ],
      "metadata": {
        "colab": {
          "base_uri": "https://localhost:8080/"
        },
        "id": "tfQ9-gxcx7CI",
        "outputId": "5f2953e9-274e-45d1-ae3e-06ed9b2b1e77"
      },
      "execution_count": null,
      "outputs": [
        {
          "output_type": "stream",
          "name": "stdout",
          "text": [
            "<class 'int'>\n"
          ]
        }
      ]
    },
    {
      "cell_type": "markdown",
      "source": [
        "\"3\" <--- is a string , INT is a FUNCTION (coverts anything that is not an integer to an integer) , TYPE is a FUNCTION ( the data type)"
      ],
      "metadata": {
        "id": "4N5yrkZO4kax"
      }
    },
    {
      "cell_type": "code",
      "source": [
        "print(str(3))"
      ],
      "metadata": {
        "colab": {
          "base_uri": "https://localhost:8080/"
        },
        "id": "ta454yRM5HRM",
        "outputId": "942596f5-5a82-49ab-df13-464c40c0814a"
      },
      "execution_count": null,
      "outputs": [
        {
          "output_type": "stream",
          "name": "stdout",
          "text": [
            "3\n"
          ]
        }
      ]
    },
    {
      "cell_type": "markdown",
      "source": [
        "STR is a function that coverts any NON string into a STRING\n"
      ],
      "metadata": {
        "id": "TYnklKl75SYg"
      }
    },
    {
      "cell_type": "code",
      "source": [
        "print(float(3))"
      ],
      "metadata": {
        "colab": {
          "base_uri": "https://localhost:8080/"
        },
        "id": "5cMExKOi5avs",
        "outputId": "0a0a9cab-861b-4033-8895-df533743377b"
      },
      "execution_count": null,
      "outputs": [
        {
          "output_type": "stream",
          "name": "stdout",
          "text": [
            "3.0\n"
          ]
        }
      ]
    },
    {
      "cell_type": "markdown",
      "source": [
        "FLOAT (decimal) coverts any NON float into a FLOAT"
      ],
      "metadata": {
        "id": "OJJ6ca3e55qo"
      }
    },
    {
      "cell_type": "markdown",
      "source": [
        "Exercise 1:\n",
        "Radius=5, π=3.14, calculate the area of the circle\n"
      ],
      "metadata": {
        "id": "v9jipyH6BarT"
      }
    },
    {
      "cell_type": "code",
      "source": [
        "3.14*5**2\n"
      ],
      "metadata": {
        "colab": {
          "base_uri": "https://localhost:8080/"
        },
        "id": "vn_ynNWxBc56",
        "outputId": "5b49cab8-1580-4094-e927-bd70dc389312"
      },
      "execution_count": null,
      "outputs": [
        {
          "output_type": "execute_result",
          "data": {
            "text/plain": [
              "78.5"
            ]
          },
          "metadata": {},
          "execution_count": 5
        }
      ]
    },
    {
      "cell_type": "markdown",
      "source": [
        "Workign with strings\n",
        "len(\"word\")\n",
        "\n",
        "*   Word.capitalize()  <---- CAPITALIZE is  not a function, its a METHOD.\n",
        "*   Word.upper()       <---- UPPER is  not a function, its a METHOD\n",
        "*   Word.lower()       <---- LOWER is  not a function, its a METHOD\n",
        "*   Word.title()        <---- TITLE is  not a function, its a METHOD\n",
        "\n"
      ],
      "metadata": {
        "id": "2uByy4OkBpHI"
      }
    },
    {
      "cell_type": "code",
      "source": [
        "Student = input(\"Are you a Student or a staff member?\")\n",
        "print(\"You are a\",Student)"
      ],
      "metadata": {
        "colab": {
          "base_uri": "https://localhost:8080/"
        },
        "id": "WUa1-PhwCCjd",
        "outputId": "dc3f6ba8-7561-4218-b616-97b6f1b30e05"
      },
      "execution_count": null,
      "outputs": [
        {
          "output_type": "stream",
          "name": "stdout",
          "text": [
            "Are you a Student or a staff member?Student\n",
            "You are a Student\n"
          ]
        }
      ]
    },
    {
      "cell_type": "markdown",
      "source": [
        "def = DEFINE\n",
        "TAB keystroke is an operator\n"
      ],
      "metadata": {
        "id": "xX4g49UBNSMV"
      }
    },
    {
      "cell_type": "code",
      "source": [
        "def C_F(C):\n",
        "  F = 1.8*C+32\n",
        "  return F\n",
        "\n",
        "temp = C_F(20)\n",
        "print(temp)"
      ],
      "metadata": {
        "colab": {
          "base_uri": "https://localhost:8080/"
        },
        "id": "vM16vWxRNfdD",
        "outputId": "4dd3bbc9-893a-43e5-9c01-107939444e06"
      },
      "execution_count": null,
      "outputs": [
        {
          "output_type": "stream",
          "name": "stdout",
          "text": [
            "68.0\n"
          ]
        }
      ]
    },
    {
      "cell_type": "markdown",
      "source": [
        "Exercise 3: Create a BMI function and calculate BMI for person1 and person2. BMI = weight/height²\n",
        "\n",
        "# person1: height:1.65m, weight:60kg\n",
        "# person2: height:1.75m, weight:75kg\n"
      ],
      "metadata": {
        "id": "5BAHb9FTSF3H"
      }
    },
    {
      "cell_type": "code",
      "source": [
        "def BMI(H,W):\n",
        "  BMI= W/H**2\n",
        "  return BMI\n",
        "\n",
        "person1 = BMI(1.65,60)\n",
        "person2 = BMI(1.75,75)\n",
        "\n",
        "print(person1)\n",
        "print(person2)\n",
        "\n",
        "\n"
      ],
      "metadata": {
        "colab": {
          "base_uri": "https://localhost:8080/"
        },
        "id": "GGOnb0rSNsln",
        "outputId": "f4cca37f-a59e-43f2-dc9c-8c505596ad51"
      },
      "execution_count": null,
      "outputs": [
        {
          "output_type": "stream",
          "name": "stdout",
          "text": [
            "22.03856749311295\n",
            "24.489795918367346\n"
          ]
        }
      ]
    }
  ]
}